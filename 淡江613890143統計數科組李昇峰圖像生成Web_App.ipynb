{
  "cells": [
    {
      "cell_type": "markdown",
      "metadata": {
        "id": "view-in-github",
        "colab_type": "text"
      },
      "source": [
        "<a href=\"https://colab.research.google.com/github/ws97109/generate_images_web/blob/main/%E6%B7%A1%E6%B1%9F613890143%E7%B5%B1%E8%A8%88%E6%95%B8%E7%A7%91%E7%B5%84%E6%9D%8E%E6%98%87%E5%B3%B0%E5%9C%96%E5%83%8F%E7%94%9F%E6%88%90Web_App.ipynb\" target=\"_parent\"><img src=\"https://colab.research.google.com/assets/colab-badge.svg\" alt=\"Open In Colab\"/></a>"
      ]
    },
    {
      "cell_type": "code",
      "execution_count": null,
      "metadata": {
        "id": "50QsZ9LcBw5Y",
        "collapsed": true
      },
      "outputs": [],
      "source": [
        "!pip install diffusers transformers accelerate safetensors huggingface_hub gradio --upgrade\n",
        "!pip install openai -q"
      ]
    },
    {
      "cell_type": "code",
      "execution_count": null,
      "metadata": {
        "id": "AxCcNOPBCmf2"
      },
      "outputs": [],
      "source": [
        "from diffusers import StableDiffusionPipeline,UniPCMultistepScheduler\n",
        "import torch\n",
        "import gc\n",
        "import matplotlib.pyplot as plt\n",
        "import gradio as gr\n",
        "import random\n",
        "import os\n",
        "from openai import OpenAI\n",
        "from google.colab import userdata"
      ]
    },
    {
      "cell_type": "markdown",
      "source": [
        "提供建立多個模型"
      ],
      "metadata": {
        "id": "dSZIntXkm8qQ"
      }
    },
    {
      "cell_type": "code",
      "source": [
        "# 定義可用的模型清單\n",
        "models = {\n",
        "    \"MajicMIX Realistic v6\": \"digiplay/majicMIX_realistic_v6\",\n",
        "    \"Realistic Vision V5.1\": \"SG161222/Realistic_Vision_V5.1_noVAE\",\n",
        "    \"stable-diffusion-v1-5\": \"runwayml/stable-diffusion-v1-5\",\n",
        "}"
      ],
      "metadata": {
        "id": "QczC-czTm7tm"
      },
      "execution_count": null,
      "outputs": []
    },
    {
      "cell_type": "markdown",
      "metadata": {
        "id": "8NhvpxxqCqps"
      },
      "source": [
        "### 讀入模型"
      ]
    },
    {
      "cell_type": "code",
      "execution_count": null,
      "metadata": {
        "id": "yy2-xjIyCpbI"
      },
      "outputs": [],
      "source": [
        "model_name = \"runwayml/stable-diffusion-v1-5\""
      ]
    },
    {
      "cell_type": "code",
      "execution_count": null,
      "metadata": {
        "id": "c4fEdszfCyO7"
      },
      "outputs": [],
      "source": [
        "pipe = StableDiffusionPipeline.from_pretrained(\n",
        "    model_name,\n",
        "    torch_dtype=torch.float16,\n",
        "    use_safetensors=True\n",
        ").to(\"cuda\")"
      ]
    },
    {
      "cell_type": "code",
      "execution_count": null,
      "metadata": {
        "id": "rzzFo2qCC56V"
      },
      "outputs": [],
      "source": [
        "pipe.scheduler = UniPCMultistepScheduler.from_config(pipe.scheduler.config)"
      ]
    },
    {
      "cell_type": "markdown",
      "metadata": {
        "id": "X4ZAPdMsC_Dq"
      },
      "source": [
        "### 加載多種模型\n"
      ]
    },
    {
      "cell_type": "code",
      "source": [
        "# 加載不同模型的函數\n",
        "def load_model(model_key):\n",
        "    global pipe, model_name\n",
        "\n",
        "    # 獲取選擇的模型路徑\n",
        "    model_name = models[model_key]\n",
        "\n",
        "\n",
        "    # 加載新模型\n",
        "    pipe = StableDiffusionPipeline.from_pretrained(\n",
        "        model_name,\n",
        "        torch_dtype=torch.float16,\n",
        "        use_safetensors=True\n",
        "    ).to(\"cuda\")\n",
        "    pipe.scheduler = UniPCMultistepScheduler.from_config(pipe.scheduler.config)\n",
        "\n",
        "    return f\"已成功載入模型: {model_key}\""
      ],
      "metadata": {
        "id": "dPf5KL_Pnt47"
      },
      "execution_count": null,
      "outputs": []
    },
    {
      "cell_type": "markdown",
      "source": [
        "### 翻譯機器人"
      ],
      "metadata": {
        "id": "CcTeaKmsXYI8"
      }
    },
    {
      "cell_type": "code",
      "source": [
        "# Groq翻譯機器人\n",
        "api_key = userdata.get('Groq')\n",
        "os.environ['OPENAI_API_KEY'] = api_key\n",
        "\n",
        "client = OpenAI(\n",
        "    base_url = \"https://api.groq.com/openai/v1\"\n",
        ")\n",
        "\n",
        "def translate_to_english(text):\n",
        "    \"\"\"將任何語言翻譯成英文\"\"\"\n",
        "    # 如果文本為空，直接返回\n",
        "    if not text or text.strip() == \"\":\n",
        "        return text\n",
        "\n",
        "    # 檢查是否是英文\n",
        "    if all('\\u4e00' > char or char > '\\u9fff' for char in text):\n",
        "        return text\n",
        "\n",
        "    try:\n",
        "        # 創建翻譯請求\n",
        "        response = client.chat.completions.create(\n",
        "            model=\"llama3-70b-8192\",\n",
        "            messages=[\n",
        "                {\"role\": \"system\", \"content\": \"你是一位翻譯專家。請將用戶輸入的任何語言翻譯成英文，只返回翻譯結果。\"},\n",
        "                {\"role\": \"user\", \"content\": f\"將以下文本翻譯成英文: {text}\"}\n",
        "            ],\n",
        "            temperature=0.1\n",
        "        )\n",
        "\n",
        "        # 獲取翻譯結果\n",
        "        translation = response.choices[0].message.content\n",
        "        print(f\"已翻譯: {text} -> {translation}\")\n",
        "        return translation\n",
        "\n",
        "    except Exception as e:\n",
        "        print(f\"翻譯錯誤: {str(e)}\")\n",
        "        return text"
      ],
      "metadata": {
        "id": "zb8DYDJhXX9e"
      },
      "execution_count": null,
      "outputs": []
    },
    {
      "cell_type": "markdown",
      "source": [
        "### 生成圖片"
      ],
      "metadata": {
        "id": "g9iSx0uRGtXT"
      }
    },
    {
      "cell_type": "code",
      "execution_count": null,
      "metadata": {
        "id": "mpPjwVKbDEKe"
      },
      "outputs": [],
      "source": [
        "# 整合翻譯功能的圖像生成函數\n",
        "def generate_images(prompt, use_enhance, enhance_text, use_negative, negative_text,\n",
        "                   use_custom_seed, custom_seed, height, width, steps, num_images):\n",
        "\n",
        "    # 翻譯主要提示詞\n",
        "    translated_prompt = translate_to_english(prompt)\n",
        "\n",
        "    # 翻譯增強提示詞\n",
        "    translated_enhance_text = enhance_text\n",
        "    if use_enhance and enhance_text:\n",
        "        translated_enhance_text = translate_to_english(enhance_text)\n",
        "\n",
        "    # 翻譯負面提示詞\n",
        "    translated_negative_text = negative_text\n",
        "    if use_negative and negative_text:\n",
        "        translated_negative_text = translate_to_english(negative_text)\n",
        "\n",
        "\n",
        "    height = int(height)\n",
        "    width = int(width)\n",
        "\n",
        "    if height % 8 != 0 or width % 8 != 0:\n",
        "        raise ValueError(\"高度和寬度必須是8的倍數！\")\n",
        "\n",
        "    if use_custom_seed:\n",
        "        base_seed = int(custom_seed)\n",
        "    else:\n",
        "        base_seed = random.randint(0, 2**32 - 1)\n",
        "\n",
        "    seeds = [base_seed + i for i in range(num_images)]\n",
        "\n",
        "    prompts = []\n",
        "    negative_prompts = []\n",
        "    generators = []\n",
        "\n",
        "    # 使用翻譯後的提示詞\n",
        "    final_prompt = translated_prompt\n",
        "    if use_enhance and translated_enhance_text:\n",
        "        final_prompt = translated_prompt + \", \" + translated_enhance_text\n",
        "\n",
        "    # 使用翻譯後的負面提示詞\n",
        "    final_negative = translated_negative_text if use_negative else None\n",
        "\n",
        "    for seed in seeds:\n",
        "        g = torch.Generator(\"cuda\").manual_seed(seed)\n",
        "        generators.append(g)\n",
        "        prompts.append(final_prompt)\n",
        "        negative_prompts.append(final_negative)\n",
        "\n",
        "    gc.collect()\n",
        "    torch.cuda.empty_cache()\n",
        "\n",
        "    images = []\n",
        "    for i in range(num_images):\n",
        "        with torch.no_grad():\n",
        "            image = pipe(\n",
        "                prompt=prompts[i],\n",
        "                negative_prompt=negative_prompts[i] if final_negative else None,\n",
        "                height=height,\n",
        "                width=width,\n",
        "                num_inference_steps=steps,\n",
        "                guidance_scale=7.5,\n",
        "                generator=generators[i]\n",
        "            ).images[0]\n",
        "            images.append(image)\n",
        "\n",
        "    return images, f\"使用的 random seeds: {seeds}\""
      ]
    },
    {
      "cell_type": "code",
      "execution_count": null,
      "metadata": {
        "id": "2uJnUGTXDOCN"
      },
      "outputs": [],
      "source": [
        "default_enhance = \"detailed fur texture, bright eyes, whiskers, cinematic lighting\"\n",
        "default_negative = \"human, person, ugly, blurry, distorted, deformed, low quality, bad anatomy\"\n",
        "\n",
        "with gr.Blocks(css=\".gradio-container {background-color: #FAFAFA; padding: 20px;} .gr-button {font-size: 18px; background: linear-gradient(to right, #667eea, #764ba2); color: white;}\") as demo:\n",
        "    gr.Markdown(\"\"\"\n",
        "    # 🎨 多風格 AI 圖像工作室\n",
        "    歡迎使用智能圖像生成器！\n",
        "\n",
        "    選擇你喜愛的模型，輸入創意提示詞，調整細節參數，一鍵生成令人驚豔的藝術作品。無論是寫實風格的精緻肖像、動漫風格的角色設計、奇幻場景還是自然風光，都能輕鬆實現。調整參數探索無限可能，讓你的創意立即成真！\n",
        "\n",
        "    模型提供：\n",
        "\n",
        "    MajicMIX Realistic v6 提供優質寫實風格與細膩人物細節。\n",
        "\n",
        "    Realistic Vision V5.1 專注於極致寫實與出色的光影材質表現。\n",
        "\n",
        "    Stable Diffusion v1.5 是最穩定且多功能的基礎模型，適合各種風格創作。\n",
        "\n",
        "    \"\"\")\n",
        "\n",
        "    # 添加模型選擇下拉選單\n",
        "    model_dropdown = gr.Dropdown(\n",
        "        choices=list(models.keys()),\n",
        "        value=\"stable-diffusion-v1-5\",\n",
        "        label=\"選擇模型\",\n",
        "    )\n",
        "\n",
        "    with gr.Row():\n",
        "        with gr.Column(scale=6):\n",
        "            prompt = gr.Textbox(label=\"Prompt\", placeholder=\"請輸入你的提示詞 (prompt)\", lines=3)\n",
        "            with gr.Row():\n",
        "                use_enhance = gr.Checkbox(label=\"加強 Prompt\", value=True)\n",
        "                enhance_text = gr.Textbox(label=\"加強內容\", value=default_enhance)\n",
        "            with gr.Row():\n",
        "                use_negative = gr.Checkbox(label=\"使用 Negative Prompt\", value=True)\n",
        "                negative_text = gr.Textbox(label=\"Negative Prompt 內容\", value=default_negative)\n",
        "            with gr.Row():\n",
        "                use_custom_seed = gr.Checkbox(label=\"自訂 Random Seed\", value=False)\n",
        "                custom_seed = gr.Number(label=\"指定 seed (選填)\", value=42)\n",
        "            with gr.Row():\n",
        "                height = gr.Dropdown([\"512\", \"768\", \"1024\"], label=\"高度 Height\", value=\"512\")\n",
        "                width = gr.Dropdown([\"512\", \"768\", \"1024\"], label=\"寬度 Width\", value=\"512\")\n",
        "            with gr.Row():\n",
        "                steps = gr.Slider(10, 50, value=20, step=5, label=\"生成步數 (Steps)\")\n",
        "                num_images = gr.Slider(1, 4, step=1, value=1, label=\"生成張數\")\n",
        "            generate_btn = gr.Button(\"🚀 開始生成！\")\n",
        "\n",
        "        with gr.Column(scale=6):\n",
        "            gallery = gr.Gallery(label=\"生成結果\", columns=2, object_fit=\"contain\", height=\"auto\")\n",
        "            seed_info = gr.Label(label=\"使用的 Random Seeds\")\n",
        "            model_info = gr.Textbox(label=\"模型資訊\", value=\"已載入模型: stable-diffusion-v1-5\")\n",
        "\n",
        "    # 模型切換事件\n",
        "    model_dropdown.change(\n",
        "        fn=load_model,\n",
        "        inputs=[model_dropdown],\n",
        "        outputs=[model_info]\n",
        "    )\n",
        "\n",
        "    generate_btn.click(\n",
        "        fn=generate_images,\n",
        "        inputs=[prompt, use_enhance, enhance_text, use_negative, negative_text,\n",
        "                use_custom_seed, custom_seed, height, width, steps, num_images],\n",
        "        outputs=[gallery, seed_info]\n",
        "    )"
      ]
    },
    {
      "cell_type": "code",
      "execution_count": null,
      "metadata": {
        "id": "IYR6wPYHDmkn"
      },
      "outputs": [],
      "source": [
        "demo.launch(share=True, debug=True)"
      ]
    },
    {
      "cell_type": "code",
      "source": [],
      "metadata": {
        "id": "icCbmKIDoowE"
      },
      "execution_count": null,
      "outputs": []
    }
  ],
  "metadata": {
    "colab": {
      "private_outputs": true,
      "provenance": [],
      "gpuType": "T4",
      "include_colab_link": true
    },
    "kernelspec": {
      "display_name": "Python 3",
      "name": "python3"
    },
    "language_info": {
      "name": "python"
    },
    "accelerator": "GPU"
  },
  "nbformat": 4,
  "nbformat_minor": 0
}